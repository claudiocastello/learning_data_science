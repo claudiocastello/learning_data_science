{
 "cells": [
  {
   "cell_type": "markdown",
   "metadata": {},
   "source": [
    "# Gradient Descent for Linear Regression\n",
    "\n",
    "Based on Andrew Ng lectures for the first week of his course on Machine Learning on Cousera I've tried to make a Python implementation of the Gradient Descent algorithm for linear regresssion. Along with Andrew Ng lectures I've got some ideas and clarification from MATT NEDRICH in his blog post. Below you can find links for Andrew Ng course and links for Matt's post and his repository for the problem.\n",
    "\n",
    "Andrew Ng Course: https://www.coursera.org/learn/machine-learning/home/welcome\n",
    "\n",
    "Matt's Blog Post:\n",
    "https://spin.atomicobject.com/2014/06/24/gradient-descent-linear-regression/\n",
    "\n",
    "Matt's Github repository:\n",
    "https://github.com/mattnedrich/GradientDescentExample"
   ]
  },
  {
   "cell_type": "markdown",
   "metadata": {},
   "source": [
    "### Imports and Data Acquisition\n",
    "Let's begin with some imports and data acquisition. I'll use Pandas to read the CSV file and store data in a dataframe. It's a very straightforward dataset and Pandas is much more powerful than the simple use I'm making here (I'm still learning it...). For simple visualization I'm using Matplotlib and Seaborn. I'm also importing stats from scipy to test our model against the its linear regression module. "
   ]
  },
  {
   "cell_type": "code",
   "execution_count": 1,
   "metadata": {
    "collapsed": true
   },
   "outputs": [],
   "source": [
    "# IMPORTS\n",
    "import pandas as pd\n",
    "import numpy as np\n",
    "from scipy import stats\n",
    "import seaborn as sns\n",
    "import matplotlib.pyplot as plt\n",
    "%matplotlib inline\n",
    "\n",
    "# Acquiring Data\n",
    "# Source: https://github.com/mattnedrich/GradientDescentExample\n",
    "data = pd.read_csv('data_single_var.csv')\n",
    "data = data.sort_values(by=['x'])\n",
    "data['index'] = [i for i in range(len(data['x']))]\n",
    "data.set_index('index', inplace=True)"
   ]
  },
  {
   "cell_type": "code",
   "execution_count": 2,
   "metadata": {},
   "outputs": [
    {
     "data": {
      "text/html": [
       "<div>\n",
       "<style>\n",
       "    .dataframe thead tr:only-child th {\n",
       "        text-align: right;\n",
       "    }\n",
       "\n",
       "    .dataframe thead th {\n",
       "        text-align: left;\n",
       "    }\n",
       "\n",
       "    .dataframe tbody tr th {\n",
       "        vertical-align: top;\n",
       "    }\n",
       "</style>\n",
       "<table border=\"1\" class=\"dataframe\">\n",
       "  <thead>\n",
       "    <tr style=\"text-align: right;\">\n",
       "      <th></th>\n",
       "      <th>x</th>\n",
       "      <th>y</th>\n",
       "    </tr>\n",
       "    <tr>\n",
       "      <th>index</th>\n",
       "      <th></th>\n",
       "      <th></th>\n",
       "    </tr>\n",
       "  </thead>\n",
       "  <tbody>\n",
       "    <tr>\n",
       "      <th>0</th>\n",
       "      <td>25.128485</td>\n",
       "      <td>53.454394</td>\n",
       "    </tr>\n",
       "    <tr>\n",
       "      <th>1</th>\n",
       "      <td>31.588117</td>\n",
       "      <td>50.392670</td>\n",
       "    </tr>\n",
       "    <tr>\n",
       "      <th>2</th>\n",
       "      <td>32.502345</td>\n",
       "      <td>31.707006</td>\n",
       "    </tr>\n",
       "    <tr>\n",
       "      <th>3</th>\n",
       "      <td>32.669044</td>\n",
       "      <td>45.570589</td>\n",
       "    </tr>\n",
       "    <tr>\n",
       "      <th>4</th>\n",
       "      <td>32.940480</td>\n",
       "      <td>67.170656</td>\n",
       "    </tr>\n",
       "    <tr>\n",
       "      <th>5</th>\n",
       "      <td>33.093832</td>\n",
       "      <td>50.719589</td>\n",
       "    </tr>\n",
       "    <tr>\n",
       "      <th>6</th>\n",
       "      <td>33.644706</td>\n",
       "      <td>69.899682</td>\n",
       "    </tr>\n",
       "    <tr>\n",
       "      <th>7</th>\n",
       "      <td>33.864215</td>\n",
       "      <td>52.725494</td>\n",
       "    </tr>\n",
       "    <tr>\n",
       "      <th>8</th>\n",
       "      <td>34.333125</td>\n",
       "      <td>55.723489</td>\n",
       "    </tr>\n",
       "    <tr>\n",
       "      <th>9</th>\n",
       "      <td>35.567830</td>\n",
       "      <td>41.412885</td>\n",
       "    </tr>\n",
       "  </tbody>\n",
       "</table>\n",
       "</div>"
      ],
      "text/plain": [
       "               x          y\n",
       "index                      \n",
       "0      25.128485  53.454394\n",
       "1      31.588117  50.392670\n",
       "2      32.502345  31.707006\n",
       "3      32.669044  45.570589\n",
       "4      32.940480  67.170656\n",
       "5      33.093832  50.719589\n",
       "6      33.644706  69.899682\n",
       "7      33.864215  52.725494\n",
       "8      34.333125  55.723489\n",
       "9      35.567830  41.412885"
      ]
     },
     "execution_count": 2,
     "metadata": {},
     "output_type": "execute_result"
    }
   ],
   "source": [
    "# Showing the first 10 entries of 100 in the dataset\n",
    "data.head(10)"
   ]
  },
  {
   "cell_type": "code",
   "execution_count": 3,
   "metadata": {},
   "outputs": [
    {
     "data": {
      "image/png": "[encoded data removed]",
      "text/plain": [
       "<matplotlib.figure.Figure at 0x7fd6c8ce2f98>"
      ]
     },
     "metadata": {},
     "output_type": "display_data"
    }
   ],
   "source": [
    "# Ploting data as a scatterplot\n",
    "plt.plot(data['x'], data['y'], '.') \n",
    "plt.title('Scatterplot of Sample Data')\n",
    "plt.xlabel('x',fontsize=12)\n",
    "plt.ylabel('y',fontsize=12)\n",
    "plt.show()"
   ]
  },
  {
   "cell_type": "markdown",
   "metadata": {},
   "source": [
    "### Thinking about the problem\n",
    "From the plot above it's possible to get an intuition of some linear behavior. Here the linear regression comes into play. Maybe it's possible to draw a line that model this linear bahavior of the data... but where the line will lie? Where it'll cross the y-axis? And what slope it'll have?\n",
    "\n",
    "We can use the equation for a line in the plane:\n",
    "\n",
    "$$y' = a + bx$$\n",
    "\n",
    "Where $y'$ is the predicted value for a given $x$, $a$ is the y-intercept and $b$ is the slope of the line. From that we'll try to find the line that best fit the points we have.\n",
    "\n",
    "\n",
    "### Linear Regression Intuition\n",
    "\n",
    "Let's take a simpler example with fewer points for best visualization. Credits for the following images are at the end of this cell.\n",
    "\n",
    "![Scatter](img/img1.png)\n",
    "\n",
    "Here we can imagine a line crossing the plane that represents the data and allow us to predict values for $y$ given another values for $x$, as we can see in the next plot:\n",
    "\n",
    "![Scatter_Line](img/img2.png)\n",
    "\n",
    "If we think in a best fit line this line must have the least distance possible of all points. We can call the distance from the line to each point in our dataset the error $e_i$.\n",
    "\n",
    "![Scatter_Line_Error](img/img3.png)\n",
    "\n",
    "To have the best line means that the sum $e_1 + e_2 + e_3 + e_4$ get the minimum possible value.\n",
    "\n",
    "We can say that:\n",
    "\n",
    "$$TotalError = \\sum_{i=1}^4 (y'_i - y_i)$$\n",
    "\n",
    "To work only with positive values we can use the Squared Mean of the Total Error and call it our Cost Function J, dividing it by the size of our dataset, 4 in this case:\n",
    "\n",
    "$$J = \\frac{1}{4}\\sum_{i=1}^4 (y'_i - y_i)^2$$\n",
    "\n",
    "Now I'll generalize the cost function J for $m$ points in the dataset and divide it by 2 (magic number?). Also, I'll expand the $y'_i$ term and put the right notation for the J function:\n",
    "\n",
    "$$J(a, b) = \\frac{1}{2m}\\sum_{i=1}^m (a + bx_i - y_i)^2$$\n",
    "\n",
    "As we can see, the J cost function is expressed in terms of the parameters $a$ and $b$ we want to find from the beginning. Using our knowledge of differential calculus we can say that to find the minimum values for the J function we can differentiate this function with respect to its variables $a$ and $b$ of the function J and make use of the Gradient Descent algorithm to reach this minima. \n",
    "\n",
    "\n",
    "### The Gradient Vector\n",
    "\n",
    "For one variable linear regression the J cost function will assume a bow shape, with only one minimum value for which the parameters $a$ and $b$ represent the best fit line for our dataset. The Gradient Descent method is a way to walk through the surface of the J function in the direction of its minima using the Gradient Vector as a guide to which direction to walk. Let's look the 3D plot of an example of bow shape function:\n",
    "\n",
    "![J_Function](img/bowjfunction.png)\n",
    "\n",
    "\n",
    "The 'Gradient' is a vector that represents the rate of change of a function at a given point. You can find a detailed explanation of the Gradient Vecton in vector Calculus here: https://betterexplained.com/articles/vector-calculus-understanding-the-gradient/. In our example we're dealing with a two variable J function and the rates of change of the function J will be given by it's partial derivarives:\n",
    "\n",
    "The Gradient Vector, which gives the direction of greater increase in the function is:\n",
    "\n",
    "$$\\nabla J = (\\frac{\\partial}{\\partial a}J, \\frac{\\partial}{\\partial b}J)$$\n",
    "\n",
    "\n",
    "Whose terms (partial derivatives) are:\n",
    "\n",
    "$$\\frac{\\partial}{\\partial a}J = \\frac{1}{m}\\sum_{i=1}^m (a + bx_i - y_i)$$\n",
    "\n",
    "$$\\frac{\\partial}{\\partial b}J = \\frac{1}{m}\\sum_{i=1}^m (a + bx_i - y_i)x_i$$\n",
    "\n",
    "If you are interested in the details of the derivatives, check it here: https://matthewebmckenna.com/posts/2017/05/gradient-descent-linear-regression\n",
    "\n",
    "If we start at the point $A$ of our bow function example and wants to go faster to $B$ we need to take the opposite direction of the gradient vector, or $-\\nabla J$. When we reach $B$ the value for the gradient vector will be $(0, 0)$ because there is no rate of change at this point and we've reached the mininma of the function.\n",
    "\n",
    "You can see below the Python implementation of the Cost Function J and its partial derivatives.\n",
    "\n",
    "#### Credits:\n",
    "\n",
    "Scatter plots:\n",
    "http://www.sigmazone.com/LaBrea_Scatter.htm\n",
    "\n",
    "Bow Shaped 3D Plot:\n",
    "https://medium.com/abdullah-al-imran/intuition-of-gradient-descent-for-machine-learning-49e1b6b89c8b\n"
   ]
  },
  {
   "cell_type": "code",
   "execution_count": 4,
   "metadata": {
    "collapsed": true
   },
   "outputs": [],
   "source": [
    "#\n",
    "# Cost Function and Partial Derivatives with respect to 'a' and 'b'\n",
    "#\n",
    "\n",
    "def cost_function(a, b, x_values, y_values):\n",
    "    '''\n",
    "    Calculates the square mean error for a given dataset\n",
    "    with (x,y) pairs and the model y' = a + bx\n",
    "\n",
    "    a: y-intercept for the model\n",
    "    b: slope of the curve\n",
    "    x_values, y_values: points (x,y) of the dataset\n",
    "    '''\n",
    "    data_len = len(x_values)\n",
    "    total_error = sum([((a + b * x_values[i]) - y_values[i])**2\n",
    "                       for i in range(data_len)])\n",
    "    return total_error / (2 * float(data_len))\n",
    "\n",
    "\n",
    "def a_gradient(a, b, x_values, y_values):\n",
    "    '''\n",
    "    Partial derivative of the cost_function with respect to 'a'\n",
    "\n",
    "    a, b: values for 'a' and 'b'\n",
    "    x_values, y_values: points (x,y) of the dataset\n",
    "    '''\n",
    "    data_len = len(x_values)\n",
    "    a_gradient = sum([((a + b * x_values[i]) - y_values[i])\n",
    "                      for i in range(data_len)])\n",
    "    return a_gradient / float(data_len)\n",
    "\n",
    "\n",
    "def b_gradient(a, b, x_values, y_values):\n",
    "    '''\n",
    "    Partial derivative of the cost_function with respect to 'b'\n",
    "\n",
    "    a, b: values for 'a' and 'b'\n",
    "    x_values, y_values: points (x,y) of the dataset\n",
    "    '''\n",
    "    data_len = len(x_values)\n",
    "    b_gradient = sum([(((a + b * x_values[i]) - y_values[i]) * x_values[i])\n",
    "                      for i in range(data_len)])\n",
    "    return b_gradient / float(data_len)"
   ]
  },
  {
   "cell_type": "markdown",
   "metadata": {},
   "source": [
    "### Gradient Descent Algorithm\n",
    "\n",
    "Andrew Ng explains that we need a way to walk through the function in the direction of it's minima and we can use the Gradient Descent Algorithm to achive this.\n",
    "\n",
    "The idea is to start at a given point in the function J choosing taking some value for $a$ and $b$, calculating the gradient vector at this point and giving a step in that direction. Then we take new values for the gradient vector at this new point and give another step... and so on, until we reach the minima of the function where the Gradient Vector is $\\nabla J = (0, 0)$ and the function J have it's minimum value (the error is the minimum possible).\n",
    "\n",
    "We can think as follows:\n",
    "\n",
    "Repeat until convergence (partial derivatives are zero)\n",
    "\n",
    "$$a := a - \\alpha \\frac{\\partial}{\\partial a}J$$\n",
    "\n",
    "$$b := b - \\alpha \\frac{\\partial}{\\partial b}J$$\n",
    "\n",
    "In the algorithm above we have the simbol $:=$ that means \"evaluate the right side and make the left side equal it\". It's an assignment statement and at each iteration we recalculate $a$ and $b$ and update its values.\n",
    "\n",
    "The $\\alpha$ in the equations is called the learning rate of the algorithm. It indicates the size of the steps we give in the direction of the minima of the function. It's worth to notice how the size of the step could be decisive for the success or failure of our implementation! If we take a very small step the algorithm could take too long to converge and this could have a high computational cost. On the other hand, if we take a big step our algorithm could just miss the minima point and completely diverge, never coming back again in the direction of the minima. Below you find a screenshot of Andrew's Ng lecture ilustrating this concept.\n",
    "\n",
    "![Alpha_Parameter](img/alpha.png)\n",
    "\n",
    "Another thing to notice is that we don't need to worry about giving smaller steps (decrease $\\alpha$ value) along the way. As our algorithm runs the values of the partial derivatives get smaller and this already deacreses our steps as we get near the minima.\n",
    "\n",
    "Now we can implement a function to give the steps we need to reach the minima of J cost function and another function to run our algorithm. See the code below and read the comments to understand its implementation (pay special attention to how I decide to stop the iterations and come up with the values for $a$ and $b$)."
   ]
  },
  {
   "cell_type": "code",
   "execution_count": 5,
   "metadata": {
    "collapsed": true
   },
   "outputs": [],
   "source": [
    "#\n",
    "# Gradient Descent step implementation and Gradient Descent algorithm\n",
    "#\n",
    "\n",
    "def gradient_descent_step(a_current, b_current, x_values, y_values, alpha):\n",
    "    '''\n",
    "    Give a step in direction of the minimum of the cost_function using\n",
    "    the 'a' and 'b' gradiants. Return new values for 'a' and 'b'.\n",
    "\n",
    "    a_current, b_current: the current values for 'a' and 'b'\n",
    "    x_values, y_values: points (x,y) of the dataset\n",
    "\n",
    "    '''\n",
    "    new_a = a_current - alpha * a_gradient(a_current, b_current, x_values, y_values)\n",
    "    new_b = b_current - alpha * b_gradient(a_current, b_current, x_values, y_values)\n",
    "    return (new_a, new_b)\n",
    "\n",
    "\n",
    "def run_gradient_descent(a, b, x_values, y_values, alpha, precision, plot=False, verbose=False):\n",
    "    '''\n",
    "    Runs the gradient_descent_step function and updates (a,b) until\n",
    "    the value of the cost function varies less than 'precision'.\n",
    "\n",
    "    a, b: initial values for the point a and b in the cost_function\n",
    "    x_values, y_values: points (x,y) of the dataset\n",
    "    alpha: learning rate for the algorithm\n",
    "    precision: value for the algorithm to stop calculation\n",
    "    '''\n",
    "    iterations = 0\n",
    "    delta_cost = cost_function(a, b, x_values, y_values)\n",
    "\n",
    "    error_list = [delta_cost]\n",
    "    iteration_list = [0]\n",
    "\n",
    "    # The loop runs until the delta_cost reaches the precision defined\n",
    "    # When the variation in cost_function is small it means that the\n",
    "    # the function is near its minimum and the parameters 'a' and 'b'\n",
    "    # are a good guess for modeling the dataset.\n",
    "    while delta_cost > precision:\n",
    "        iterations += 1\n",
    "        iteration_list.append(iterations)\n",
    "\n",
    "        # Calculates the initial error with current a,b values\n",
    "        prev_cost = cost_function(a, b, x_values, y_values)\n",
    "\n",
    "        # Calculates new values for a and b\n",
    "        a, b = gradient_descent_step(a, b, x_values, y_values, alpha)\n",
    "\n",
    "        # Updates the value of the error\n",
    "        actual_cost = cost_function(a, b, x_values, y_values)\n",
    "        error_list.append(actual_cost)\n",
    "\n",
    "        # Calculates the difference between previous and actual error values.\n",
    "        delta_cost = prev_cost - actual_cost\n",
    "\n",
    "    # Plot the error in each iteration to see how it decreases\n",
    "    # and some information about our final results\n",
    "    if plot:\n",
    "        plt.plot(iteration_list, error_list, '-')\n",
    "        plt.title('Error Minimization')\n",
    "        plt.xlabel('Iteration',fontsize=12)\n",
    "        plt.ylabel('Error',fontsize=12)\n",
    "        plt.show()\n",
    "    if verbose:\n",
    "        print('Iterations = ' + str(iterations))\n",
    "        print('Cost Function Value = '+ str(cost_function(a, b, x_values, y_values)))\n",
    "        print('a = ' + str(a) + ' and b = ' + str(b))\n",
    "        \n",
    "    return (actual_cost, a, b)"
   ]
  },
  {
   "cell_type": "markdown",
   "metadata": {},
   "source": [
    "Now we can run our Gradient Descent algorithm and see it in action. We can choose the values of $a = 5$ and $b = 10$ for example. Also, we will set our learning rate to $\\alpha = 0.0001$ and our threshold to stop the iterations to $precision = 0.01$."
   ]
  },
  {
   "cell_type": "code",
   "execution_count": 6,
   "metadata": {},
   "outputs": [
    {
     "data": {
      "image/png": "[encoded data removed]",
      "text/plain": [
       "<matplotlib.figure.Figure at 0x7fd6fc13b278>"
      ]
     },
     "metadata": {},
     "output_type": "display_data"
    },
    {
     "name": "stdout",
     "output_type": "stream",
     "text": [
      "Iterations = 1\n",
      "Cost Function Value = 205986.33789\n",
      "a = 4.57815163594 and b = -11.4690521113\n"
     ]
    }
   ],
   "source": [
    "cost, a, b = run_gradient_descent(5, 10, data['x'], data['y'], 0.001, 0.01, plot=True, verbose=True)"
   ]
  },
  {
   "cell_type": "markdown",
   "metadata": {},
   "source": [
    "In only 28 iterations our code returned a value for $a = 4.83105523067$ and $b = 1.38735918763$. Let's test it against the stabilished scipy.stats module, but firts take a look on how our regression line looks like:"
   ]
  },
  {
   "cell_type": "code",
   "execution_count": 7,
   "metadata": {},
   "outputs": [
    {
     "data": {
      "image/png": "[encoded data removed]",
      "text/plain": [
       "<matplotlib.figure.Figure at 0x7fd6c672f4e0>"
      ]
     },
     "metadata": {},
     "output_type": "display_data"
    }
   ],
   "source": [
    "y_model = [(a + b * x) for x in data['x']]\n",
    "\n",
    "plt.plot(data['x'], data['y'], '.')\n",
    "plt.plot(data['x'], y_model, '-', color='r') \n",
    "plt.title('Scatterplot of Sample Data')\n",
    "plt.xlabel('x',fontsize=12)\n",
    "plt.ylabel('y',fontsize=12)\n",
    "plt.show()"
   ]
  },
  {
   "cell_type": "code",
   "execution_count": 8,
   "metadata": {},
   "outputs": [
    {
     "name": "stdout",
     "output_type": "stream",
     "text": [
      "a = 7.99102098227and b = 1.32243102276\n"
     ]
    }
   ],
   "source": [
    "# Test of scipy linear regression for the same dataset\n",
    "x = [x for x in data['x']]\n",
    "y = [y for y in data['y']]\n",
    "slope, intercept, r_value, p_value, std_err = stats.linregress(x,y)\n",
    "print('a = ' + str(intercept) + 'and b = ' + str(slope))"
   ]
  },
  {
   "cell_type": "markdown",
   "metadata": {},
   "source": [
    "We can see that the value of $b$ is not so distant from the value we find with our algorithm but the value of $a$ is very different. That's the problem I'm trying to solve at the moment (StackOverflow question here: https://stackoverflow.com/questions/48688515/gradient-descent-algorithm-for-linear-regression-do-not-optmize-the-y-intercept/48689590?noredirect=1#comment84400272_48689590).\n",
    "\n",
    "What I noticed is that if I change the value of the initial guess for $a$ the algorithm makes little variation in this value and tries to adjust the value of $b$ to meet the low value for the cost function J.\n",
    "\n",
    "Take a look:"
   ]
  },
  {
   "cell_type": "code",
   "execution_count": 9,
   "metadata": {},
   "outputs": [
    {
     "name": "stdout",
     "output_type": "stream",
     "text": [
      "Iterations = 1\n",
      "Cost Function Value = 293684.565042\n",
      "a = 89.4931516359 and b = -15.6305111355\n"
     ]
    },
    {
     "data": {
      "image/png": "[encoded data removed]",
      "text/plain": [
       "<matplotlib.figure.Figure at 0x7fd6c66a7128>"
      ]
     },
     "metadata": {},
     "output_type": "display_data"
    }
   ],
   "source": [
    "cost, a, b = run_gradient_descent(90, 10, data['x'], data['y'], 0.001, 0.01, verbose=True)\n",
    "\n",
    "y_model = [(a + b * x) for x in data['x']]\n",
    "\n",
    "plt.plot(data['x'], data['y'], '.')\n",
    "plt.plot(data['x'], y_model, '-', color='r') \n",
    "plt.title('Scatterplot of Sample Data')\n",
    "plt.xlabel('x',fontsize=12)\n",
    "plt.ylabel('y',fontsize=12)\n",
    "plt.show()"
   ]
  },
  {
   "cell_type": "markdown",
   "metadata": {},
   "source": [
    "The test above is an exagerated guess and we can see that it returns an absurd value of $b < 0$. Clearly our model can't have a negative slope. Another thing I noticed is that if I choose the initial value for $a$ close to the value scipy.stats returns the value for the cost function J will be smaller."
   ]
  },
  {
   "cell_type": "code",
   "execution_count": 10,
   "metadata": {},
   "outputs": [
    {
     "name": "stdout",
     "output_type": "stream",
     "text": [
      "Iterations = 28\n",
      "Cost Function Value = 55.1387416341\n",
      "a = 7.97950652138 and b = 1.32549759405\n"
     ]
    },
    {
     "data": {
      "image/png": "[encoded data removed]",
      "text/plain": [
       "<matplotlib.figure.Figure at 0x7fd6c66b30b8>"
      ]
     },
     "metadata": {},
     "output_type": "display_data"
    }
   ],
   "source": [
    "cost, a, b = run_gradient_descent(8.15, 10, data['x'], data['y'], 0.0001, 0.01, verbose=True)\n",
    "\n",
    "y_model = [(a + b * x) for x in data['x']]\n",
    "\n",
    "plt.plot(data['x'], data['y'], '.')\n",
    "plt.plot(data['x'], y_model, '-', color='r') \n",
    "plt.title('Scatterplot of Sample Data')\n",
    "plt.xlabel('x',fontsize=12)\n",
    "plt.ylabel('y',fontsize=12)\n",
    "plt.show()"
   ]
  },
  {
   "cell_type": "markdown",
   "metadata": {},
   "source": [
    "### Defining a Search Range for y-intercept\n",
    "\n",
    "To solve the problem of the initial guess for $a$ I came up with a function to define an initial search range where the run_gradient_descent will try to find the best value for it, optimizing the result."
   ]
  },
  {
   "cell_type": "code",
   "execution_count": 11,
   "metadata": {},
   "outputs": [
    {
     "data": {
      "image/png": "[encoded data removed]",
      "text/plain": [
       "<matplotlib.figure.Figure at 0x7fd6c6668ba8>"
      ]
     },
     "metadata": {},
     "output_type": "display_data"
    },
    {
     "data": {
      "text/plain": [
       "(-30, 64)"
      ]
     },
     "execution_count": 11,
     "metadata": {},
     "output_type": "execute_result"
    }
   ],
   "source": [
    "def search_range(x, y, plot=False):\n",
    "    '''\n",
    "    Given a dataset with points (x, y) searches for a best guess for initial\n",
    "    values of 'a'.\n",
    "    '''\n",
    "    data_lenght = len(x)             # Total size of of the dataset\n",
    "    q_lenght = int(data_lenght / 4)  # Size of a quartile of the dataset\n",
    "    \n",
    "    # Finding the max and min value for y in the first quartile\n",
    "    min_Q1 = (x[0], y[0])\n",
    "    max_Q1 = (x[0], y[0])\n",
    "    \n",
    "    for i in range(q_lenght):\n",
    "        temp_point = (x[i], y[i])\n",
    "        if temp_point[1] < min_Q1[1]:\n",
    "            min_Q1 = temp_point\n",
    "        if temp_point[1] > max_Q1[1]:\n",
    "            max_Q1 = temp_point\n",
    "    \n",
    "    # Finding the max and min value for y in the 4th quartile\n",
    "    min_Q4 = (x[data_lenght - 1], y[data_lenght - 1])\n",
    "    max_Q4 = (x[data_lenght - 1], y[data_lenght - 1])\n",
    "    \n",
    "    for i in range(data_lenght - 1, data_lenght - q_lenght, -1):\n",
    "        temp_point = (x[i], y[i])\n",
    "        if temp_point[1] < min_Q4[1]:\n",
    "            min_Q4 = temp_point\n",
    "        if temp_point[1] > max_Q4[1]:\n",
    "            max_Q4 = temp_point\n",
    "            \n",
    "    mean_Q4 = (((min_Q4[0] + max_Q4[0]) / 2), ((min_Q4[1] + max_Q4[1]) / 2))\n",
    "            \n",
    "    # Finding max_y and min_y given the points found above\n",
    "    # Two lines need to be defined, L1 and L2.\n",
    "    # L1 will pass through min_Q1 and mean_Q4\n",
    "    # L2 will pass through max_Q1 and mean_Q4\n",
    "    \n",
    "    # Calculatin slope for L1 and L2 given m = Delta(y) / Delta (x)\n",
    "    slope_L1 = (min_Q1[1] - mean_Q4[1]) / (min_Q1[0] - mean_Q4[0])\n",
    "    slope_L2 = (max_Q1[1] - mean_Q4[1]) / (max_Q1[0] -mean_Q4[0])\n",
    "    \n",
    "    # Calculating y-intercepts for L1 and L2 given line equation in the form y = mx + b\n",
    "    # Float numbers are converted to int because they will be used as range for iteration\n",
    "    y_L1 = int(min_Q1[1] - min_Q1[0] * slope_L1)\n",
    "    y_L2 = int(max_Q1[1] - max_Q1[0] * slope_L2)\n",
    "    \n",
    "    \n",
    "    # Ploting L1 and L2\n",
    "    if plot:\n",
    "        L1 = [(y_L1 + slope_L1 * x) for x in data['x']]\n",
    "        L2 = [(y_L2 + slope_L2 * x) for x in data['x']]\n",
    "\n",
    "        plt.plot(data['x'], data['y'], '.')\n",
    "        plt.plot(data['x'], L1, '-', color='r') \n",
    "        plt.plot(data['x'], L2, '-', color='r') \n",
    "        plt.title('Scatterplot of Sample Data')\n",
    "        plt.xlabel('x',fontsize=12)\n",
    "        plt.ylabel('y',fontsize=12)\n",
    "        plt.show()\n",
    "    \n",
    "    return y_L1, y_L2\n",
    "\n",
    "search_range(data['x'], data['y'], plot=True)"
   ]
  },
  {
   "cell_type": "code",
   "execution_count": 12,
   "metadata": {
    "collapsed": true
   },
   "outputs": [],
   "source": [
    "def run_search_gradient_descent(x_values, y_values, alpha, precision, verbose=False):\n",
    "    '''\n",
    "    Runs the gradient_descent_step function and updates (a,b) until\n",
    "    the value of the cost function varies less than 'precision'.\n",
    "\n",
    "    x_values, y_values: points (x,y) of the dataset\n",
    "    alpha: learning rate for the algorithm\n",
    "    precision: value for the algorithm to stop calculation\n",
    "    '''    \n",
    "    from math import inf\n",
    "    \n",
    "    a1, a2 = search_range(x_values, y_values)\n",
    "    \n",
    "    best_guess = [inf, 0, 0]\n",
    "    \n",
    "    for a in range(a1, a2):\n",
    "        \n",
    "        cost, linear_coef, slope = run_gradient_descent(a, 0, x_values, y_values, alpha, precision)\n",
    "                    \n",
    "        # Saving value for cost_function and parameters (a,b)        \n",
    "        if cost < best_guess[0]:\n",
    "            best_guess = [cost, linear_coef, slope]\n",
    "    if verbose:        \n",
    "        print('Cost Function = ' + str(best_guess[0]))\n",
    "        print('a = ' + str(best_guess[1]) + ' and b = ' + str(best_guess[2]))\n",
    "\n",
    "    return (best_guess[0], best_guess[1], best_guess[2])"
   ]
  },
  {
   "cell_type": "code",
   "execution_count": 13,
   "metadata": {
    "collapsed": true
   },
   "outputs": [],
   "source": [
    "# _, a, b = run_search_gradient_descent(data['x'], data['y'], 0.0001, 0.001, verbose=True)"
   ]
  },
  {
   "cell_type": "code",
   "execution_count": 14,
   "metadata": {},
   "outputs": [
    {
     "data": {
      "image/png": "[encoded data removed]",
      "text/plain": [
       "<matplotlib.figure.Figure at 0x7fd6c8755780>"
      ]
     },
     "metadata": {},
     "output_type": "display_data"
    }
   ],
   "source": [
    "# Plot of the linear regression with the last values for a and b\n",
    "y_model = [(a + b * x) for x in data['x']]\n",
    "\n",
    "plt.plot(data['x'], data['y'], '.')\n",
    "plt.plot(data['x'], y_model, '-', color='r') \n",
    "plt.title('Scatterplot of Sample Data')\n",
    "plt.xlabel('x',fontsize=12)\n",
    "plt.ylabel('y',fontsize=12)\n",
    "plt.show()"
   ]
  },
  {
   "cell_type": "markdown",
   "metadata": {},
   "source": [
    "The code above returned a much better value of $a = 8.0259125043065893$. The speed of the algorithm is not good (it's very bad indeed), but it gave me a reasonable result. I think there are improvements to be made but this is a task for another time."
   ]
  },
  {
   "cell_type": "markdown",
   "metadata": {},
   "source": [
    "## Vector Implementation of the Gradient Descent Algorithm\n",
    "\n",
    "The code above runs well but there is a much faster implementation that uses matrix math to speed things up.\n",
    "\n",
    "Here we split the data in two, X and y, and then we add a column of 1's to the X data. After this we can transform the data to two Numpy arrays to deal with the fast matrix math."
   ]
  },
  {
   "cell_type": "code",
   "execution_count": 15,
   "metadata": {
    "collapsed": true
   },
   "outputs": [],
   "source": [
    "# Filtering data in two separated datframes and adding a column of 'ones' to the X dataframe\n",
    "X = data.filter(['x'], axis=1)\n",
    "X['intercept'] = 1\n",
    "\n",
    "y = data.filter(['y'])\n",
    "\n",
    "# Transforming to Numpy arrays to easier matrix math\n",
    "X = np.array(X)\n",
    "y = np.array(y).flatten()"
   ]
  },
  {
   "cell_type": "markdown",
   "metadata": {},
   "source": [
    "I had to get back to some linear algebra to understand why to add 1's to the X data.\n",
    "\n",
    "When you're dealing with the vector implementation you need to be aware that you will have two vectors for each sample in your data set:\n",
    "\n",
    "$x = [x_n , 1]$ and $\\theta = [b , a]$\n",
    "\n",
    "The dot product of these two vectors will be your hipothesis for that given sample in the dataset given the parameters $a$ and $b$ in the vector $\\theta$:\n",
    "\n",
    "$h(\\theta) = x \\cdot \\theta = x_n \\times b + 1 \\times a$\n",
    "\n",
    "Do you recognize this equation? If you subtract the actual $y$ value of it you get the difference between the actual $y-value$ and the value calculated with the parameters you've chosen.\n",
    "\n",
    "If you square this difference, sum up all the obtained values for all points in your dataset and divide it by $1/(2m)$, where m is the size of your dataset you will get the value for the cost function for the given parameters you choose. Take a look at the code and you'll understand."
   ]
  },
  {
   "cell_type": "code",
   "execution_count": 16,
   "metadata": {},
   "outputs": [
    {
     "data": {
      "text/plain": [
       "297.12960680185449"
      ]
     },
     "execution_count": 16,
     "metadata": {},
     "output_type": "execute_result"
    }
   ],
   "source": [
    "# Defining 'thetha' as initial parameter [b, a]\n",
    "theta = np.array([1, 2])\n",
    "\n",
    "def cost_function(X, y, theta):\n",
    "    ## number of training examples\n",
    "    m = len(y)\n",
    "\n",
    "    ## Calculate the cost with the given parameters\n",
    "    J = (1/(2*m)) * np.sum((X.dot(theta) - y)**2)\n",
    "    return J\n",
    "\n",
    "cost_function(X, y, theta)"
   ]
  },
  {
   "cell_type": "markdown",
   "metadata": {},
   "source": [
    "Now we can implement the Gradient Descent algorithm!\n",
    "\n",
    "First we can calculate the hipothesis with given values for $a$ and $b$ using the vector dot product of $X$ and $\\theta$. Our friend Numpy do a grat job here... we don't need and for loop to iterate over all our dataset. Our $X$ data is in the form\n",
    "\n",
    "$$X = [[x_1, 1], [x_2, 1], ... , [x_n, 1]]$$\n",
    "\n",
    "and the using the X.dot(theta) will give us the $h$ vector of the same size of our dataset with each value being a $y-estimate$ for our model.\n",
    "\n",
    "Then we need to calculate the error, simply doing a vector subtraction $error = h - y$, and we come up with the errors for each point in our dataset.\n",
    "\n",
    "With the error we can calculate the gradient vector, which gives us the direction to walk to the minima of the cost function.\n",
    "\n",
    "Let's see the math here...\n",
    "\n",
    "The X matrix has the shape $[m \\times 2]$ and the error vector has the shape $[m \\times 1]$. The result of the dot product of between $X^T$ and $error$ is the gradient vector with shape $[2 \\times 1]$.\n",
    "\n",
    "With the gradient vector and the learning rate $\\alpha$ it's possible to update the parameters $\\theta$ with the equation\n",
    "\n",
    "$$\\theta := \\theta - \\alpha \\times \\nabla$$\n",
    "\n",
    "Repeating the calculations until convergence gives us the values for $a$ and $b$."
   ]
  },
  {
   "cell_type": "code",
   "execution_count": 17,
   "metadata": {},
   "outputs": [
    {
     "data": {
      "text/plain": [
       "(55.804956916009118, array([ 1.43919927,  2.00912919]), 22)"
      ]
     },
     "execution_count": 17,
     "metadata": {},
     "output_type": "execute_result"
    }
   ],
   "source": [
    "def gradient_descent(X, y, theta, alpha, precision=0.001):\n",
    "    '''\n",
    "    X -> \n",
    "    y ->\n",
    "    thetha -> initial guess for parameters\n",
    "    alpha ->\n",
    "    precision ->\n",
    "    '''\n",
    "    \n",
    "    delta_cost = cost_function(X, y, theta)\n",
    "    iterations = 0\n",
    "    \n",
    "    while delta_cost > precision:\n",
    "        # Length of the dataset\n",
    "        m = len(y)\n",
    "        \n",
    "        # Calculates the cost before updating parameters thetha\n",
    "        previous_cost = cost_function(X, y, theta)\n",
    "        \n",
    "        # Updating the parameters thetha\n",
    "        h = X.dot(theta)\n",
    "        error = h - y\n",
    "        gradient = X.T.dot(error) / m\n",
    "        theta = theta - alpha * gradient\n",
    "        \n",
    "        # Calculating new cost with updated parameters\n",
    "        actual_cost = cost_function(X, y, theta)\n",
    "        delta_cost = previous_cost - actual_cost\n",
    "        iterations += 1\n",
    "\n",
    "    return actual_cost, theta, iterations\n",
    "\n",
    "gradient_descent(X, y, theta, 0.0001) "
   ]
  },
  {
   "cell_type": "markdown",
   "metadata": {},
   "source": [
    "Again, we have the same problem of not reaching a good value for the $a$ parameter. Here we will use the search_range() function to come up with a best initial guess and then run the vectorized gradient descent algorithm."
   ]
  },
  {
   "cell_type": "code",
   "execution_count": 18,
   "metadata": {
    "collapsed": true
   },
   "outputs": [],
   "source": [
    "def run_search_gradient_descent(X, y, alpha, precision, verbose=False):\n",
    "    '''\n",
    "    Runs the gradient_descent_step function and updates (a,b) until\n",
    "    the value of the cost function varies less than 'precision'.\n",
    "\n",
    "    x_values, y_values: points (x,y) of the dataset\n",
    "    alpha: learning rate for the algorithm\n",
    "    precision: value for the algorithm to stop calculation\n",
    "    '''    \n",
    "    from math import inf\n",
    "    \n",
    "    x_values = np.fromiter((i[0] for i in X), float)\n",
    "    \n",
    "    a1, a2 = search_range(x_values, y)\n",
    "    \n",
    "    best_guess = [inf, 0, 0]\n",
    "    \n",
    "    for a in range(a1, a2):\n",
    "        \n",
    "        cost, parameters, iterations = gradient_descent(X, y, np.array([0, a]), alpha, precision)\n",
    "                    \n",
    "        # Saving value for cost_function and parameters (a,b)        \n",
    "        if cost < best_guess[0]:\n",
    "            best_guess = [cost, parameters, iterations]\n",
    "    if verbose:        \n",
    "        print('Cost Function = ' + str(best_guess[0]))\n",
    "        print('a = ' + str(best_guess[1][1]) + ' and b = ' + str(best_guess[1][0]))\n",
    "\n",
    "    return (best_guess[0], best_guess[1], best_guess[2])"
   ]
  },
  {
   "cell_type": "code",
   "execution_count": 27,
   "metadata": {},
   "outputs": [
    {
     "name": "stdout",
     "output_type": "stream",
     "text": [
      "Cost Function = 55.1416024005\n",
      "a = 8.02591250431 and b = 1.31852848839\n"
     ]
    },
    {
     "data": {
      "text/plain": [
       "(55.141602400450942, array([ 1.31852849,  8.0259125 ]), 21)"
      ]
     },
     "execution_count": 27,
     "metadata": {},
     "output_type": "execute_result"
    }
   ],
   "source": [
    "run_search_gradient_descent(X, y, 0.0001, 0.01, True)"
   ]
  },
  {
   "cell_type": "markdown",
   "metadata": {},
   "source": [
    "We reached a very close values for $a$ and $b$ as before with the for_loop implementation of the gradient descent algorithm but in a much more efficient way. Also, with this implementation we can easily adapt the gradient descent for a higher number of features in the model."
   ]
  },
  {
   "cell_type": "code",
   "execution_count": 28,
   "metadata": {},
   "outputs": [
    {
     "data": {
      "text/plain": [
       "array([ 1.32243102,  7.99102098])"
      ]
     },
     "execution_count": 28,
     "metadata": {},
     "output_type": "execute_result"
    }
   ],
   "source": [
    "# Solving with the Normal Equation\n",
    "from numpy.linalg import inv\n",
    "(inv(X.T.dot(X)).dot(X.T)).dot(y)"
   ]
  },
  {
   "cell_type": "code",
   "execution_count": 34,
   "metadata": {},
   "outputs": [
    {
     "name": "stdout",
     "output_type": "stream",
     "text": [
      "Cost Function = 105.11133224\n",
      "a = 78.5901644915 and b = 4.71980776048\n"
     ]
    },
    {
     "data": {
      "text/plain": [
       "(105.11133223962203, array([  4.71980776,  78.59016449]), 4589)"
      ]
     },
     "execution_count": 34,
     "metadata": {},
     "output_type": "execute_result"
    }
   ],
   "source": [
    "# # Feature Scaling\n",
    "\n",
    "# # Filtering data in two separated datframes and adding a column of 'ones' to the X dataframe\n",
    "# X_scaled = data.filter(['x'], axis=1)\n",
    "# X_scaled = (X_scaled - X_scaled.mean()) / np.std(X_scaled)\n",
    "# X_scaled['intercept'] = 1\n",
    "# X_scaled = np.array(X_scaled)\n",
    "\n",
    "# run_search_gradient_descent(X_scaled, y, 0.0001, 0.01, True)"
   ]
  },
  {
   "cell_type": "code",
   "execution_count": null,
   "metadata": {
    "collapsed": true
   },
   "outputs": [],
   "source": []
  }
 ],
 "metadata": {
  "kernelspec": {
   "display_name": "Python 3",
   "language": "python",
   "name": "python3"
  },
  "language_info": {
   "codemirror_mode": {
    "name": "ipython",
    "version": 3
   },
   "file_extension": ".py",
   "mimetype": "text/x-python",
   "name": "python",
   "nbconvert_exporter": "python",
   "pygments_lexer": "ipython3",
   "version": "3.5.2"
  }
 },
 "nbformat": 4,
 "nbformat_minor": 2
}
