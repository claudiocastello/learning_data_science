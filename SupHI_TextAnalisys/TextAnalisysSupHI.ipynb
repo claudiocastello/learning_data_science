{
 "cells": [
  {
   "cell_type": "markdown",
   "metadata": {},
   "source": [
    "## Analisys of a Manager/Supervisors Whatsapp Group\n",
    "\n",
    "The goal of this analisys is to simply determine the person in the group who send most messages."
   ]
  },
  {
   "cell_type": "code",
   "execution_count": 5,
   "metadata": {},
   "outputs": [
    {
     "data": {
      "text/plain": [
       "['10/31/15, 20:51 - Eduardo Campanholi created group \"Supervisão HI\"',\n",
       " '10/31/15, 21:19 - Eduardo Campanholi added you',\n",
       " '10/31/15, 20:52 - Eduardo Campanholi: Senhores',\n",
       " '10/31/15, 20:52 - Eduardo Campanholi: Orientação da sede é que estejamos na refinaria antes do almoço amanhã',\n",
       " '10/31/15, 20:52 - Eduardo Campanholi: Vou agendar o transporte para todos pras 11:00',\n",
       " '10/31/15, 20:52 - Eduardo Campanholi: Favor confirmar recebimento',\n",
       " '10/31/15, 20:53 - Alfredo: E quem ta de zero hora?',\n",
       " '10/31/15, 20:54 - Eduardo Campanholi: Alfredo inicialmente a orientação é que vcs vão embora',\n",
       " '10/31/15, 20:54 - Eduardo Campanholi: Mas qualquer orientação diferente disso passo até amanhã cedo',\n",
       " '10/31/15, 20:54 - Alfredo: Ok']"
      ]
     },
     "execution_count": 5,
     "metadata": {},
     "output_type": "execute_result"
    }
   ],
   "source": [
    "# Acquiring and Cleaning Data\n",
    "raw_lines = [line.rstrip('\\n') for line in open('DataSupHI.txt')]\n",
    "raw_lines[0:10]"
   ]
  },
  {
   "cell_type": "code",
   "execution_count": 6,
   "metadata": {
    "scrolled": true
   },
   "outputs": [
    {
     "data": {
      "text/plain": [
       "['10/31/15, 20:51 - Eduardo Campanholi created group \"Supervisão HI\"',\n",
       " '10/31/15, 21:19 - Eduardo Campanholi added you',\n",
       " '10/31/15, 20:52 - Eduardo Campanholi: Senhores',\n",
       " '10/31/15, 20:52 - Eduardo Campanholi: Orientação da sede é que estejamos na refinaria antes do almoço amanhã',\n",
       " '10/31/15, 20:52 - Eduardo Campanholi: Vou agendar o transporte para todos pras 11:00',\n",
       " '10/31/15, 20:52 - Eduardo Campanholi: Favor confirmar recebimento',\n",
       " '10/31/15, 20:53 - Alfredo: E quem ta de zero hora?',\n",
       " '10/31/15, 20:54 - Eduardo Campanholi: Alfredo inicialmente a orientação é que vcs vão embora',\n",
       " '10/31/15, 20:54 - Eduardo Campanholi: Mas qualquer orientação diferente disso passo até amanhã cedo',\n",
       " '10/31/15, 20:54 - Alfredo: Ok']"
      ]
     },
     "execution_count": 6,
     "metadata": {},
     "output_type": "execute_result"
    }
   ],
   "source": [
    "# Removing lines with lessa than two characters and lines \n",
    "# whose second or third character is not '/'\n",
    "blank_lines_removed = [line for line in raw_lines if len(line) > 2]\n",
    "first_line_only = [line for line in blank_lines_removed if line[2] == '/' or line[1] == '/']\n",
    "first_line_only[0:10]"
   ]
  },
  {
   "cell_type": "code",
   "execution_count": 7,
   "metadata": {
    "scrolled": true
   },
   "outputs": [
    {
     "data": {
      "text/plain": [
       "[' Eduardo Campanholi: Senhores',\n",
       " ' Eduardo Campanholi: Orientação da sede é que estejamos na refinaria antes do almoço amanhã',\n",
       " ' Eduardo Campanholi: Vou agendar o transporte para todos pras 11:00',\n",
       " ' Eduardo Campanholi: Favor confirmar recebimento',\n",
       " ' Alfredo: E quem ta de zero hora?',\n",
       " ' Eduardo Campanholi: Alfredo inicialmente a orientação é que vcs vão embora',\n",
       " ' Eduardo Campanholi: Mas qualquer orientação diferente disso passo até amanhã cedo',\n",
       " ' Alfredo: Ok',\n",
       " ' Marcelo De Andrea: Ok',\n",
       " ' Admir HDT: 👍🏻']"
      ]
     },
     "execution_count": 7,
     "metadata": {},
     "output_type": "execute_result"
    }
   ],
   "source": [
    "# Removing the initial date and time of each message line\n",
    "date_time_removed = [line.split('-')[1] for line in first_line_only if '-' in line]\n",
    "\n",
    "# Removing lines that are not messages, for example, lines\n",
    "# indicating that the group manager created the group, added\n",
    "# someone to the group or when someone leave the group.\n",
    "not_messages_lines_removed = [line for line in date_time_removed if ':' in line]\n",
    "not_messages_lines_removed[0:10]"
   ]
  },
  {
   "cell_type": "code",
   "execution_count": 8,
   "metadata": {},
   "outputs": [
    {
     "data": {
      "text/plain": [
       "['Eduardo Campanholi',\n",
       " 'Eduardo Campanholi',\n",
       " 'Eduardo Campanholi',\n",
       " 'Eduardo Campanholi',\n",
       " 'Alfredo',\n",
       " 'Eduardo Campanholi',\n",
       " 'Eduardo Campanholi',\n",
       " 'Alfredo',\n",
       " 'Marcelo De Andrea',\n",
       " 'Admir HDT']"
      ]
     },
     "execution_count": 8,
     "metadata": {},
     "output_type": "execute_result"
    }
   ],
   "source": [
    "# The last step is to let only names in the list and\n",
    "# to remove spaces before and after each entry.\n",
    "only_names = [line.strip().split(':')[0] for line in not_messages_lines_removed]\n",
    "only_names[0:10]"
   ]
  },
  {
   "cell_type": "code",
   "execution_count": 9,
   "metadata": {},
   "outputs": [
    {
     "data": {
      "text/plain": [
       "[('Fábio Roberto', 1091),\n",
       " ('Eduardo Campanholi', 894),\n",
       " ('Eduardo Tomboly', 831),\n",
       " ('Odécio Meroni', 774),\n",
       " ('Tenani', 565),\n",
       " ('Alexandre Jansen', 530),\n",
       " ('Marcelo De Andrea', 442),\n",
       " ('Guimarães', 371),\n",
       " ('Fábio Marques', 360),\n",
       " ('Stefano Castello', 283),\n",
       " ('Fábio Ventura', 219),\n",
       " ('Admir HDT', 205),\n",
       " ('Alfredo', 174),\n",
       " ('Franco', 166),\n",
       " ('Claudio Castello', 145),\n",
       " ('Ronaldo Menegheti', 115),\n",
       " ('Emerson BOB', 110),\n",
       " ('Alexandre Lara', 106),\n",
       " ('Nestor Lopes', 105),\n",
       " ('Adriano HDT', 69),\n",
       " ('Priscila Eng. Acomp', 49),\n",
       " ('Érica Pina', 48),\n",
       " ('Vilella G5', 40),\n",
       " ('Josué Marraschi', 34),\n",
       " ('Edilson Vicentin', 34)]"
      ]
     },
     "execution_count": 9,
     "metadata": {},
     "output_type": "execute_result"
    }
   ],
   "source": [
    "# Now we can rank using the Counter function from Collections module\n",
    "from collections import Counter\n",
    "\n",
    "# Data will be presented in the form (name, frequency)\n",
    "# where the frequency is the message count for that person\n",
    "names_freq = Counter(only_names).most_common(25)\n",
    "names_freq"
   ]
  },
  {
   "cell_type": "code",
   "execution_count": null,
   "metadata": {
    "collapsed": true
   },
   "outputs": [],
   "source": []
  }
 ],
 "metadata": {
  "kernelspec": {
   "display_name": "Python 3",
   "language": "python",
   "name": "python3"
  },
  "language_info": {
   "codemirror_mode": {
    "name": "ipython",
    "version": 3
   },
   "file_extension": ".py",
   "mimetype": "text/x-python",
   "name": "python",
   "nbconvert_exporter": "python",
   "pygments_lexer": "ipython3",
   "version": "3.5.2"
  }
 },
 "nbformat": 4,
 "nbformat_minor": 2
}
